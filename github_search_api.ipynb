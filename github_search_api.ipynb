{
  "cells": [
    {
      "cell_type": "markdown",
      "metadata": {
        "id": "view-in-github",
        "colab_type": "text"
      },
      "source": [
        "<a href=\"https://colab.research.google.com/github/majekolaitan/github-search-api/blob/main/github_search_api.ipynb\" target=\"_parent\"><img src=\"https://colab.research.google.com/assets/colab-badge.svg\" alt=\"Open In Colab\"/></a>"
      ]
    },
    {
      "cell_type": "code",
      "execution_count": null,
      "metadata": {
        "id": "n1ArkfMS_xuw"
      },
      "outputs": [],
      "source": [
        "import requests\n",
        "import csv"
      ]
    },
    {
      "cell_type": "code",
      "execution_count": null,
      "metadata": {
        "id": "Ho6JdP8sQdN3"
      },
      "outputs": [],
      "source": [
        "# Parameters\n",
        "token = \"\"\n",
        "search_query = \"ecommerce django\"\n",
        "number_of_pages = 2\n",
        "number_per_page = 30\n",
        "starting_page = 1\n",
        "sort = 'updated'\n",
        "order = 'desc'"
      ]
    },
    {
      "cell_type": "code",
      "execution_count": null,
      "metadata": {
        "colab": {
          "background_save": true
        },
        "id": "f2ld8Kr2L4it"
      },
      "outputs": [],
      "source": [
        "def search_repos_and_create_csv():\n",
        "    # GitHub API endpoint for search\n",
        "    url = \"https://api.github.com/search/repositories\"\n",
        "    output_file = search_query + '.csv'\n",
        "    # Parameters for the API request\n",
        "    params = {\n",
        "        'q': search_query,\n",
        "        'per_page': number_per_page,  # Number of results per page (max 100)\n",
        "        'page': starting_page,    # Start from the first page\n",
        "        'sort': sort,          # Sort by recently updated\n",
        "        'order': order         # Order descending\n",
        "    }\n",
        "\n",
        "    # Headers for authentication\n",
        "    headers = {\n",
        "        'Authorization': f'token {token}'\n",
        "    }\n",
        "\n",
        "    # Initialize list to hold all repositories data\n",
        "    all_repos = []\n",
        "\n",
        "    for _ in range(number_of_pages):\n",
        "        # Send the request to the GitHub API\n",
        "        response = requests.get(url, headers=headers, params=params)\n",
        "\n",
        "        # Check if the request was successful\n",
        "        if response.status_code == 200:\n",
        "            # Parse the JSON response\n",
        "            data = response.json()\n",
        "            all_repos.extend(data['items'])\n",
        "\n",
        "            # Increment the page parameter for the next request\n",
        "            params['page'] += 1\n",
        "\n",
        "            # Break the loop if there are no more items to fetch\n",
        "            if len(data['items']) < 100:\n",
        "                break\n",
        "        else:\n",
        "            print(f\"Failed to fetch data from GitHub API. Status code: {response.status_code}\")\n",
        "            break\n",
        "\n",
        "    # Open CSV file for writing\n",
        "    with open(output_file, mode='w', newline='', encoding='utf-8') as file:\n",
        "        writer = csv.writer(file)\n",
        "        # Write the header row\n",
        "        writer.writerow(['Repo Name', 'Description', 'Stars', 'Watchers', 'Forks', 'Open Issues', 'Main Language', 'License', 'Score', 'Size', 'Created At', 'Updated At', 'Pushed At', 'Languages'])\n",
        "        # Write the data rows\n",
        "        for repo in all_repos:\n",
        "            repo_name = repo['full_name']\n",
        "            repo_description = repo['description']\n",
        "            repo_stars = repo['stargazers_count']\n",
        "            repo_watchers = repo['watchers_count']\n",
        "            repo_forks = repo['forks_count']\n",
        "            repo_issues_count = repo['open_issues_count']\n",
        "            repo_main_language = repo['language']\n",
        "            repo_license = repo['license']['name'] if repo['license'] else None\n",
        "            repo_score = repo['score']\n",
        "            repo_size = repo['size']\n",
        "            repo_created_at = repo['created_at']\n",
        "            repo_updated_at = repo['updated_at']\n",
        "            repo_pushed_at = repo['pushed_at']\n",
        "\n",
        "\n",
        "            # Fetch the languages used in the repository\n",
        "            languages_url = repo['languages_url']\n",
        "            languages_response = requests.get(languages_url, headers=headers)\n",
        "            languages = languages_response.json()\n",
        "            languages_used = ', '.join(languages.keys())\n",
        "\n",
        "            # Write the row to the CSV file\n",
        "            writer.writerow([\n",
        "                repo_name,\n",
        "                repo_description,\n",
        "                repo_stars,\n",
        "                repo_watchers,\n",
        "                repo_forks,\n",
        "                repo_issues_count,\n",
        "                repo_main_language,\n",
        "                repo_license,\n",
        "                repo_score,\n",
        "                repo_size,\n",
        "                repo_created_at,\n",
        "                repo_updated_at,\n",
        "                repo_pushed_at,\n",
        "                languages_used\n",
        "            ])\n",
        "\n",
        "    print(f\"CSV file '{output_file}' created successfully.\")\n",
        "\n",
        "\n"
      ]
    },
    {
      "cell_type": "code",
      "execution_count": null,
      "metadata": {
        "colab": {
          "base_uri": "https://localhost:8080/"
        },
        "id": "foYhV_2wBzVA",
        "outputId": "a14b5eb8-3254-418a-caca-a65cb25010c8"
      },
      "outputs": [
        {
          "name": "stdout",
          "output_type": "stream",
          "text": [
            "CSV file 'ecommerce django.csv' created successfully.\n"
          ]
        }
      ],
      "source": [
        "# Run\n",
        "search_repos_and_create_csv()"
      ]
    }
  ],
  "metadata": {
    "colab": {
      "provenance": []
    },
    "kernelspec": {
      "display_name": "Python 3",
      "name": "python3"
    },
    "language_info": {
      "name": "python"
    }
  },
  "nbformat": 4,
  "nbformat_minor": 0
}
